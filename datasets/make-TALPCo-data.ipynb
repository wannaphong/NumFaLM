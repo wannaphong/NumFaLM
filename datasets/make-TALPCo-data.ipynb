{
 "cells": [
  {
   "cell_type": "code",
   "execution_count": 1,
   "id": "36e07765-573c-437b-a050-6ebe3bd87fc0",
   "metadata": {},
   "outputs": [
    {
     "name": "stdout",
     "output_type": "stream",
     "text": [
      "--2024-03-29 07:52:22--  https://github.com/matbahasa/TALPCo/raw/master/tha/data_tha.txt\n",
      "Resolving github.com (github.com)... 20.205.243.166\n",
      "Connecting to github.com (github.com)|20.205.243.166|:443... connected.\n",
      "HTTP request sent, awaiting response... 302 Found\n",
      "Location: https://raw.githubusercontent.com/matbahasa/TALPCo/master/tha/data_tha.txt [following]\n",
      "--2024-03-29 07:52:23--  https://raw.githubusercontent.com/matbahasa/TALPCo/master/tha/data_tha.txt\n",
      "Resolving raw.githubusercontent.com (raw.githubusercontent.com)... 185.199.109.133, 185.199.108.133, 185.199.110.133, ...\n",
      "Connecting to raw.githubusercontent.com (raw.githubusercontent.com)|185.199.109.133|:443... connected.\n",
      "HTTP request sent, awaiting response... 200 OK\n",
      "Length: 131356 (128K) [text/plain]\n",
      "Saving to: ‘data_tha.txt’\n",
      "\n",
      "data_tha.txt        100%[===================>] 128.28K  --.-KB/s    in 0.02s   \n",
      "\n",
      "2024-03-29 07:52:23 (7.18 MB/s) - ‘data_tha.txt’ saved [131356/131356]\n",
      "\n",
      "--2024-03-29 07:52:24--  https://github.com/matbahasa/TALPCo/raw/master/eng/data_eng.txt\n",
      "Resolving github.com (github.com)... 20.205.243.166\n",
      "Connecting to github.com (github.com)|20.205.243.166|:443... connected.\n",
      "HTTP request sent, awaiting response... 302 Found\n",
      "Location: https://raw.githubusercontent.com/matbahasa/TALPCo/master/eng/data_eng.txt [following]\n",
      "--2024-03-29 07:52:24--  https://raw.githubusercontent.com/matbahasa/TALPCo/master/eng/data_eng.txt\n",
      "Resolving raw.githubusercontent.com (raw.githubusercontent.com)... 185.199.108.133, 185.199.110.133, 185.199.111.133, ...\n",
      "Connecting to raw.githubusercontent.com (raw.githubusercontent.com)|185.199.108.133|:443... connected.\n",
      "HTTP request sent, awaiting response... 200 OK\n",
      "Length: 62051 (61K) [text/plain]\n",
      "Saving to: ‘data_eng.txt’\n",
      "\n",
      "data_eng.txt        100%[===================>]  60.60K  --.-KB/s    in 0.008s  \n",
      "\n",
      "2024-03-29 07:52:25 (7.58 MB/s) - ‘data_eng.txt’ saved [62051/62051]\n",
      "\n"
     ]
    }
   ],
   "source": [
    "!wget https://github.com/matbahasa/TALPCo/raw/master/tha/data_tha.txt\n",
    "!wget https://github.com/matbahasa/TALPCo/raw/master/eng/data_eng.txt"
   ]
  },
  {
   "cell_type": "code",
   "execution_count": 4,
   "id": "2fd7901f-c689-4605-8d54-0bd591bd1e11",
   "metadata": {},
   "outputs": [],
   "source": [
    "from collections import defaultdict\n",
    "data=defaultdict(dict)\n",
    "\n",
    "with open(\"data_tha.txt\",\"r\") as lines:\n",
    "    for i in lines:\n",
    "        _t=i.strip().split(\"\t\")\n",
    "        data[_t[0]][\"th\"]=_t[1]\n",
    "with open(\"data_eng.txt\",\"r\") as lines:\n",
    "    for i in lines:\n",
    "        _t=i.strip().split(\"\t\")\n",
    "        data[_t[0]][\"en\"]=_t[1]"
   ]
  },
  {
   "cell_type": "code",
   "execution_count": 6,
   "id": "0ee18ba5-d71e-413e-8437-e911026c12aa",
   "metadata": {},
   "outputs": [],
   "source": [
    "import pandas as pd\n",
    "df=pd.DataFrame.from_dict({\"translation\":list(data.values())})"
   ]
  },
  {
   "cell_type": "code",
   "execution_count": 7,
   "id": "812a1dd3-db80-4df8-9a2e-ac7f1136e453",
   "metadata": {},
   "outputs": [
    {
     "data": {
      "text/html": [
       "<div>\n",
       "<style scoped>\n",
       "    .dataframe tbody tr th:only-of-type {\n",
       "        vertical-align: middle;\n",
       "    }\n",
       "\n",
       "    .dataframe tbody tr th {\n",
       "        vertical-align: top;\n",
       "    }\n",
       "\n",
       "    .dataframe thead th {\n",
       "        text-align: right;\n",
       "    }\n",
       "</style>\n",
       "<table border=\"1\" class=\"dataframe\">\n",
       "  <thead>\n",
       "    <tr style=\"text-align: right;\">\n",
       "      <th></th>\n",
       "      <th>translation</th>\n",
       "    </tr>\n",
       "  </thead>\n",
       "  <tbody>\n",
       "    <tr>\n",
       "      <th>0</th>\n",
       "      <td>{'th': 'คุณทานากะไม่ใช่นักเรียนครับ', 'en': 'M...</td>\n",
       "    </tr>\n",
       "    <tr>\n",
       "      <th>1</th>\n",
       "      <td>{'th': 'พ่อเป็นอาจารย์ครับ', 'en': 'My father ...</td>\n",
       "    </tr>\n",
       "    <tr>\n",
       "      <th>2</th>\n",
       "      <td>{'th': 'โรงเรียนหยุดครับ', 'en': 'There is no ...</td>\n",
       "    </tr>\n",
       "    <tr>\n",
       "      <th>3</th>\n",
       "      <td>{'th': 'โตเกียวอากาศแจ่มใสครับ', 'en': 'It was...</td>\n",
       "    </tr>\n",
       "    <tr>\n",
       "      <th>4</th>\n",
       "      <td>{'th': 'ที่สวนสาธารณะมีต้นไม้ครับ', 'en': 'The...</td>\n",
       "    </tr>\n",
       "    <tr>\n",
       "      <th>...</th>\n",
       "      <td>...</td>\n",
       "    </tr>\n",
       "    <tr>\n",
       "      <th>1367</th>\n",
       "      <td>{'th': 'กินขนมไปชิ้นเดียวค่ะ', 'en': 'I ate on...</td>\n",
       "    </tr>\n",
       "    <tr>\n",
       "      <th>1368</th>\n",
       "      <td>{'th': 'B: ๑,๒,๓,๔...', 'en': 'B: One, two, th...</td>\n",
       "    </tr>\n",
       "    <tr>\n",
       "      <th>1369</th>\n",
       "      <td>{'th': 'A: มีเท่าไรคะ', 'en': 'A: How many are...</td>\n",
       "    </tr>\n",
       "    <tr>\n",
       "      <th>1370</th>\n",
       "      <td>{'th': 'ในตู้เย็นมีไข่ ๗ ฟองค่ะ', 'en': 'There...</td>\n",
       "    </tr>\n",
       "    <tr>\n",
       "      <th>1371</th>\n",
       "      <td>{'th': 'จะไปบริษัท ๙ โมงทุกเช้าค่ะ', 'en': 'I ...</td>\n",
       "    </tr>\n",
       "  </tbody>\n",
       "</table>\n",
       "<p>1372 rows × 1 columns</p>\n",
       "</div>"
      ],
      "text/plain": [
       "                                            translation\n",
       "0     {'th': 'คุณทานากะไม่ใช่นักเรียนครับ', 'en': 'M...\n",
       "1     {'th': 'พ่อเป็นอาจารย์ครับ', 'en': 'My father ...\n",
       "2     {'th': 'โรงเรียนหยุดครับ', 'en': 'There is no ...\n",
       "3     {'th': 'โตเกียวอากาศแจ่มใสครับ', 'en': 'It was...\n",
       "4     {'th': 'ที่สวนสาธารณะมีต้นไม้ครับ', 'en': 'The...\n",
       "...                                                 ...\n",
       "1367  {'th': 'กินขนมไปชิ้นเดียวค่ะ', 'en': 'I ate on...\n",
       "1368  {'th': 'B: ๑,๒,๓,๔...', 'en': 'B: One, two, th...\n",
       "1369  {'th': 'A: มีเท่าไรคะ', 'en': 'A: How many are...\n",
       "1370  {'th': 'ในตู้เย็นมีไข่ ๗ ฟองค่ะ', 'en': 'There...\n",
       "1371  {'th': 'จะไปบริษัท ๙ โมงทุกเช้าค่ะ', 'en': 'I ...\n",
       "\n",
       "[1372 rows x 1 columns]"
      ]
     },
     "execution_count": 7,
     "metadata": {},
     "output_type": "execute_result"
    }
   ],
   "source": [
    "df"
   ]
  },
  {
   "cell_type": "code",
   "execution_count": 8,
   "id": "b2046f90-0cd8-4ddb-a6cf-7f8442d456ff",
   "metadata": {},
   "outputs": [],
   "source": [
    "df.to_csv(\"talpco-en-th.csv\",index=False)"
   ]
  },
  {
   "cell_type": "code",
   "execution_count": null,
   "id": "b4c7ce1c-0928-4391-a048-d9ef07e4bb62",
   "metadata": {},
   "outputs": [],
   "source": []
  }
 ],
 "metadata": {
  "kernelspec": {
   "display_name": "Python 3 (ipykernel)",
   "language": "python",
   "name": "python3"
  },
  "language_info": {
   "codemirror_mode": {
    "name": "ipython",
    "version": 3
   },
   "file_extension": ".py",
   "mimetype": "text/x-python",
   "name": "python",
   "nbconvert_exporter": "python",
   "pygments_lexer": "ipython3",
   "version": "3.10.12"
  }
 },
 "nbformat": 4,
 "nbformat_minor": 5
}
