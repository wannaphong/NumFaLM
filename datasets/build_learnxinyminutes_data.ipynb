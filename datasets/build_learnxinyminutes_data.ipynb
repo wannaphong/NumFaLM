{
 "cells": [
  {
   "cell_type": "markdown",
   "id": "0105935d",
   "metadata": {},
   "source": [
    "We use https://github.com/adambard/learnxinyminutes-docs/tree/a6fa180db2f3c38144da2980e878c4658f9ef2d1"
   ]
  },
  {
   "cell_type": "code",
   "execution_count": 1,
   "id": "25007560-f679-4921-b674-d688d86651b3",
   "metadata": {},
   "outputs": [],
   "source": [
    "import os\n",
    "import glob"
   ]
  },
  {
   "cell_type": "code",
   "execution_count": 2,
   "id": "8273fe30-2fdc-4b3f-ae46-889abf347a0d",
   "metadata": {},
   "outputs": [],
   "source": [
    "learnxinyminutes_dir = os.path.join(\".\",\"learnxinyminutes\")"
   ]
  },
  {
   "cell_type": "code",
   "execution_count": 5,
   "id": "4b517cab-737c-4ae4-87fe-ae18c3bf2f76",
   "metadata": {},
   "outputs": [],
   "source": [
    "list_en_learnxinyminutes = list(glob.glob(os.path.join(learnxinyminutes_dir,\"*.html.markdown\")))"
   ]
  },
  {
   "cell_type": "code",
   "execution_count": 6,
   "id": "2073ab37-c0e5-480d-8315-42da6d5e59a3",
   "metadata": {},
   "outputs": [
    {
     "data": {
      "text/plain": [
       "169"
      ]
     },
     "execution_count": 6,
     "metadata": {},
     "output_type": "execute_result"
    }
   ],
   "source": [
    "len(list_en_learnxinyminutes)"
   ]
  },
  {
   "cell_type": "code",
   "execution_count": 7,
   "id": "117bbeaf-aba8-4b3f-9d1a-50e59fb69f8a",
   "metadata": {},
   "outputs": [],
   "source": [
    "list_th_learnxinyminutes = list(glob.glob(os.path.join(learnxinyminutes_dir,\"th-th\",\"*.html.markdown\")))"
   ]
  },
  {
   "cell_type": "code",
   "execution_count": 8,
   "id": "d7ae5599-053c-478a-81d6-0b0f9343c07f",
   "metadata": {},
   "outputs": [
    {
     "data": {
      "text/plain": [
       "2"
      ]
     },
     "execution_count": 8,
     "metadata": {},
     "output_type": "execute_result"
    }
   ],
   "source": [
    "len(list_th_learnxinyminutes)"
   ]
  },
  {
   "cell_type": "code",
   "execution_count": 28,
   "id": "bb426d16-6476-4401-b521-20255951e673",
   "metadata": {},
   "outputs": [],
   "source": [
    "def read_file(path):\n",
    "    with open(path,\"r\",encoding=\"utf-8-sig\") as f:\n",
    "        data=f.read().replace(\"\\r\\n\",\"\\n\").split(\"---\\n\\n\",1)[1]\n",
    "    return data.strip()"
   ]
  },
  {
   "cell_type": "code",
   "execution_count": 29,
   "id": "47d58ae7-abdc-48ac-8f51-a48f988e7f69",
   "metadata": {},
   "outputs": [],
   "source": [
    "list_th_learnxinyminutes_data = [read_file(i) for i in list_th_learnxinyminutes]\n",
    "list_en_learnxinyminutes_data=[]\n",
    "for i in list_en_learnxinyminutes:\n",
    "    try:\n",
    "        list_en_learnxinyminutes_data.append(read_file(i))\n",
    "    except IndexError:\n",
    "        pass"
   ]
  },
  {
   "cell_type": "code",
   "execution_count": 30,
   "id": "2e4414ce-39e7-4539-a19e-6e935fb60b30",
   "metadata": {},
   "outputs": [
    {
     "data": {
      "text/plain": [
       "163"
      ]
     },
     "execution_count": 30,
     "metadata": {},
     "output_type": "execute_result"
    }
   ],
   "source": [
    "len(list_en_learnxinyminutes_data)"
   ]
  },
  {
   "cell_type": "code",
   "execution_count": 31,
   "id": "f78f66d3-ad13-4214-8ba0-466b4482798d",
   "metadata": {},
   "outputs": [
    {
     "data": {
      "text/plain": [
       "2"
      ]
     },
     "execution_count": 31,
     "metadata": {},
     "output_type": "execute_result"
    }
   ],
   "source": [
    "len(list_th_learnxinyminutes_data)"
   ]
  },
  {
   "cell_type": "code",
   "execution_count": 32,
   "id": "ffc6dafa-a898-487a-859e-f898eaa2f01b",
   "metadata": {},
   "outputs": [
    {
     "data": {
      "text/plain": [
       "'Structured Query Language (SQL) is an [ISO/IEC 9075](https://www.iso.org/standard/63555.html) standard language for creating and working with databases stored in a set of tables. Implementations usually add their own extensions to the language; [Comparison of different SQL implementations](http://troels.arvin.dk/db/rdbms/) is a good reference on product differences.\\n\\nImplementations typically provide a command line prompt where you can enter the commands shown here interactively, and they also offer a way to execute a series of these commands stored in a script file.  (Showing that you’re done with the interactive prompt is a good example of something that isn’t standardized--most SQL implementations support the keywords QUIT, EXIT, or both.)\\n\\nSeveral of these sample commands assume that the [MySQL employee sample database](https://dev.mysql.com/doc/employee/en/) available on [github](https://github.com/datacharmer/test_db) has already been loaded. The github files are scripts of commands, similar to the relevant commands below, that create and populate tables of data about a fictional company’s employees. The syntax for running these scripts will depend on the SQL implementation you are using. A utility that you run from the operating system prompt is typical.\\n\\n\\n```sql\\n-- Comments start with two hyphens. End each command with a semicolon.\\n\\n-- SQL is not case-sensitive about keywords. The sample commands here\\n-- follow the convention of spelling them in upper-case because it makes\\n-- it easier to distinguish them from database, table, and column names.\\n\\n-- Create and delete a database. Database and table names are case-sensitive.\\nCREATE DATABASE someDatabase;\\nDROP DATABASE someDatabase;\\n\\n-- List available databases.\\nSHOW DATABASES;\\n\\n-- Use a particular existing database.\\nUSE employees;\\n\\n-- Select all rows and columns from the current database\\'s departments table.\\n-- Default activity is for the interpreter to scroll the results on your screen.\\nSELECT * FROM departments;\\n\\n-- Retrieve all rows from the departments table,\\n-- but only the dept_no and dept_name columns.\\n-- Splitting up commands across lines is OK.\\nSELECT dept_no,\\n       dept_name FROM departments;\\n\\n-- Retrieve all departments columns, but just 5 rows.\\nSELECT * FROM departments LIMIT 5;\\n\\n-- Retrieve dept_name column values from the departments\\n-- table where the dept_name value has the substring \\'en\\'.\\nSELECT dept_name FROM departments WHERE dept_name LIKE \\'%en%\\';\\n\\n-- Retrieve all columns from the departments table where the dept_name\\n-- column starts with an \\'S\\' and has exactly 4 characters after it.\\nSELECT * FROM departments WHERE dept_name LIKE \\'S____\\';\\n\\n-- Select title values from the titles table but don\\'t show duplicates.\\nSELECT DISTINCT title FROM titles;\\n\\n-- Same as above, but sorted (case-sensitive) by the title values.\\nSELECT DISTINCT title FROM titles ORDER BY title;\\n\\n-- Show the number of rows in the departments table.\\nSELECT COUNT(*) FROM departments;\\n\\n-- Show the number of rows in the departments table that\\n-- have \\'en\\' as a substring of the dept_name value.\\nSELECT COUNT(*) FROM departments WHERE dept_name LIKE \\'%en%\\';\\n\\n-- A JOIN of information from multiple tables: the titles table shows\\n-- who had what job titles, by their employee numbers, from what\\n-- date to what date. Retrieve this information, but instead of the\\n-- employee number, use the employee number as a cross-reference to\\n-- the employees table to get each employee\\'s first and last name\\n-- instead. (And only get 10 rows.)\\n\\nSELECT employees.first_name, employees.last_name,\\n       titles.title, titles.from_date, titles.to_date\\nFROM titles INNER JOIN employees ON\\n       employees.emp_no = titles.emp_no LIMIT 10;\\n\\n-- List all the tables in all the databases. Implementations typically provide\\n-- their own shortcut command to do this with the database currently in use.\\nSELECT * FROM INFORMATION_SCHEMA.TABLES\\nWHERE TABLE_TYPE=\\'BASE TABLE\\';\\n\\n-- Create a table called tablename1, with the two columns shown, for\\n-- the database currently in use. Lots of other options are available\\n-- for how you specify the columns, such as their datatypes.\\nCREATE TABLE tablename1 (fname VARCHAR(20), lname VARCHAR(20));\\n\\n-- Insert a row of data into the table tablename1. This assumes that the\\n-- table has been defined to accept these values as appropriate for it.\\nINSERT INTO tablename1 VALUES(\\'Richard\\',\\'Mutt\\');\\n\\n-- In tablename1, change the fname value to \\'John\\'\\n-- for all rows that have an lname value of \\'Mutt\\'.\\nUPDATE tablename1 SET fname=\\'John\\' WHERE lname=\\'Mutt\\';\\n\\n-- Delete rows from the tablename1 table\\n-- where the lname value begins with \\'M\\'.\\nDELETE FROM tablename1 WHERE lname LIKE \\'M%\\';\\n\\n-- Delete all rows from the tablename1 table, leaving the empty table.\\nDELETE FROM tablename1;\\n\\n-- Remove the entire tablename1 table.\\nDROP TABLE tablename1;\\n```\\n\\n## Further Reading\\n\\n* [Codecademy - SQL](https://www.codecademy.com/learn/learn-sql) A good introduction to SQL in a \"learn by doing it\" format.\\n* [Database System Concepts](https://www.db-book.com) book\\'s Chapter 3 - Introduction to SQL has an in depth explanation of SQL concepts.'"
      ]
     },
     "execution_count": 32,
     "metadata": {},
     "output_type": "execute_result"
    }
   ],
   "source": [
    "list_en_learnxinyminutes_data[0]"
   ]
  },
  {
   "cell_type": "code",
   "execution_count": 33,
   "id": "425e8193-ed56-4573-b65f-be3eea8dc6e9",
   "metadata": {},
   "outputs": [],
   "source": [
    "import pandas as pd"
   ]
  },
  {
   "cell_type": "code",
   "execution_count": 34,
   "id": "a39f2d86-0652-4d1a-bf83-daf7328c79c2",
   "metadata": {},
   "outputs": [],
   "source": [
    "df = pd.DataFrame.from_dict({\"text\":list_th_learnxinyminutes_data+list_en_learnxinyminutes_data})"
   ]
  },
  {
   "cell_type": "code",
   "execution_count": 35,
   "id": "be286347-3b10-4d54-b6e0-d284f8e8310f",
   "metadata": {},
   "outputs": [
    {
     "data": {
      "text/html": [
       "<div>\n",
       "<style scoped>\n",
       "    .dataframe tbody tr th:only-of-type {\n",
       "        vertical-align: middle;\n",
       "    }\n",
       "\n",
       "    .dataframe tbody tr th {\n",
       "        vertical-align: top;\n",
       "    }\n",
       "\n",
       "    .dataframe thead th {\n",
       "        text-align: right;\n",
       "    }\n",
       "</style>\n",
       "<table border=\"1\" class=\"dataframe\">\n",
       "  <thead>\n",
       "    <tr style=\"text-align: right;\">\n",
       "      <th></th>\n",
       "      <th>text</th>\n",
       "    </tr>\n",
       "  </thead>\n",
       "  <tbody>\n",
       "    <tr>\n",
       "      <th>0</th>\n",
       "      <td>&gt; Pascal (ปาสกาล) เป็นภาษาโปรแกรมมิ่งทั้งแบบ i...</td>\n",
       "    </tr>\n",
       "    <tr>\n",
       "      <th>1</th>\n",
       "      <td>TypeScript เป็นภาษาที่มีเป้าหมายเพื่อทำให้การพ...</td>\n",
       "    </tr>\n",
       "    <tr>\n",
       "      <th>2</th>\n",
       "      <td>Structured Query Language (SQL) is an [ISO/IEC...</td>\n",
       "    </tr>\n",
       "    <tr>\n",
       "      <th>3</th>\n",
       "      <td>Java is a general-purpose, concurrent, class-b...</td>\n",
       "    </tr>\n",
       "    <tr>\n",
       "      <th>4</th>\n",
       "      <td>## About\\n\\nSmallBASIC is a fast and easy to l...</td>\n",
       "    </tr>\n",
       "    <tr>\n",
       "      <th>...</th>\n",
       "      <td>...</td>\n",
       "    </tr>\n",
       "    <tr>\n",
       "      <th>160</th>\n",
       "      <td>Solidity lets you program on [Ethereum](https:...</td>\n",
       "    </tr>\n",
       "    <tr>\n",
       "      <th>161</th>\n",
       "      <td>Elm is a functional reactive programming langu...</td>\n",
       "    </tr>\n",
       "    <tr>\n",
       "      <th>162</th>\n",
       "      <td>```erlang\\n% Percent sign starts a one-line co...</td>\n",
       "    </tr>\n",
       "    <tr>\n",
       "      <th>163</th>\n",
       "      <td>Markdown was created by John Gruber in 2004. I...</td>\n",
       "    </tr>\n",
       "    <tr>\n",
       "      <th>164</th>\n",
       "      <td>```d\\n// You know what's coming...\\nmodule hel...</td>\n",
       "    </tr>\n",
       "  </tbody>\n",
       "</table>\n",
       "<p>165 rows × 1 columns</p>\n",
       "</div>"
      ],
      "text/plain": [
       "                                                  text\n",
       "0    > Pascal (ปาสกาล) เป็นภาษาโปรแกรมมิ่งทั้งแบบ i...\n",
       "1    TypeScript เป็นภาษาที่มีเป้าหมายเพื่อทำให้การพ...\n",
       "2    Structured Query Language (SQL) is an [ISO/IEC...\n",
       "3    Java is a general-purpose, concurrent, class-b...\n",
       "4    ## About\\n\\nSmallBASIC is a fast and easy to l...\n",
       "..                                                 ...\n",
       "160  Solidity lets you program on [Ethereum](https:...\n",
       "161  Elm is a functional reactive programming langu...\n",
       "162  ```erlang\\n% Percent sign starts a one-line co...\n",
       "163  Markdown was created by John Gruber in 2004. I...\n",
       "164  ```d\\n// You know what's coming...\\nmodule hel...\n",
       "\n",
       "[165 rows x 1 columns]"
      ]
     },
     "execution_count": 35,
     "metadata": {},
     "output_type": "execute_result"
    }
   ],
   "source": [
    "df"
   ]
  },
  {
   "cell_type": "code",
   "execution_count": 36,
   "id": "eb5aa673-3330-40dd-a797-47da6fd1c525",
   "metadata": {},
   "outputs": [],
   "source": [
    "df.to_csv(\"learnxinyminutes.csv\",index=False)"
   ]
  },
  {
   "cell_type": "code",
   "execution_count": null,
   "id": "9e286f9b-544c-46f5-bffe-4601d7a7feb5",
   "metadata": {},
   "outputs": [],
   "source": []
  }
 ],
 "metadata": {
  "kernelspec": {
   "display_name": "Python 3 (ipykernel)",
   "language": "python",
   "name": "python3"
  },
  "language_info": {
   "codemirror_mode": {
    "name": "ipython",
    "version": 3
   },
   "file_extension": ".py",
   "mimetype": "text/x-python",
   "name": "python",
   "nbconvert_exporter": "python",
   "pygments_lexer": "ipython3",
   "version": "3.8.10"
  }
 },
 "nbformat": 4,
 "nbformat_minor": 5
}
